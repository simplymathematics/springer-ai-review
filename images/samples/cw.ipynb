{
 "cells": [
  {
   "cell_type": "code",
   "execution_count": 31,
   "metadata": {},
   "outputs": [],
   "source": [
    "import warnings\n",
    "warnings.filterwarnings('ignore')\n",
    "from keras.datasets import mnist, cifar10\n",
    "from keras.models import load_model\n",
    "from keras.utils.np_utils import to_categorical\n",
    "import numpy as np\n",
    "\n",
    "from art.estimators.classification import KerasClassifier\n",
    "from art.utils import get_file\n",
    "from matplotlib import pyplot as plt\n",
    "import cv2\n",
    "import tensorflow as tf\n",
    "from pathlib import Path\n",
    "from art.attacks.evasion import FastGradientMethod, ProjectedGradientDescent, DeepFool, ThresholdAttack, PixelAttack, HopSkipJump, CarliniL2Method, AdversarialPatch\n",
    "from sklearn.model_selection import ParameterGrid\n",
    "import hashlib\n",
    "import pickle\n",
    "from pathlib import Path\n",
    "from art.utils import compute_success, compute_accuracy\n",
    "tf.compat.v1.disable_eager_execution()\n",
    "tf.compat.v1.experimental.output_all_intermediates(True)\n",
    "from art.attacks.evasion import FastGradientMethod, ProjectedGradientDescent, DeepFool, ThresholdAttack, PixelAttack, HopSkipJump, CarliniL2Method, CarliniLInfMethod, AdversarialPatch\n",
    "from sklearn.model_selection import ParameterGrid\n",
    "import hashlib\n",
    "from tqdm.notebook import tqdm\n",
    "import os\n",
    "\n",
    "os.environ[\"CUDA_VISIBLE_DEVICES\"]= \"1,2\"\n",
    "tf.keras.backend.clear_session()\n",
    "\n",
    "import logging\n",
    "logger = logging.getLogger()\n",
    "logger.setLevel(logging.INFO)\n",
    "logging.debug(\"test\")"
   ]
  },
  {
   "cell_type": "code",
   "execution_count": 32,
   "metadata": {},
   "outputs": [],
   "source": [
    "def run_attack_search(atk_dict, data_name, data_dict, model_dict, sample_size = 20,  param_name =None):\n",
    "    i = 0\n",
    "    new_results = {}\n",
    "    \n",
    "    for attack_name in atk_dict:\n",
    "        new_results[attack_name] = new_results.get(attack_name, {})\n",
    "        param_name = max(atk_dict[attack_name], key=lambda k: len(atk_dict[attack_name][k])) if param_name is None else param_name\n",
    "        if attack_name not in new_results:\n",
    "            new_results[attack_name] = {}\n",
    "        attack_name = list(atk_dict.keys())[i]\n",
    "        atk_params = list(atk_dict.values())[i]\n",
    "        data = data_dict[data_name]\n",
    "        model = model_dict[data_name]\n",
    "        (_, _), (X_test, _) = data\n",
    "        atk_grid = ParameterGrid(atk_params)\n",
    "        \n",
    "        for entry in tqdm(atk_grid):\n",
    "            entry_without_name = entry.copy()\n",
    "            entry_without_name.pop(\"name\")\n",
    "            hash_name = hashlib.md5(str(entry_without_name).encode('utf-8')).hexdigest()\n",
    "            new_results[attack_name][hash_name] = new_results[attack_name].get(hash_name, {})\n",
    "            if hash_name not in new_results[attack_name]:\n",
    "                new_results[attack_name][hash_name] = {}\n",
    "            if \"params\" not in new_results[attack_name][hash_name]:\n",
    "                new_results[attack_name][hash_name]['params'] = entry\n",
    "            name = entry.pop(\"name\")\n",
    "            attack = name(model, **entry, verbose=True)\n",
    "            if \"samples\" in new_results[attack_name][hash_name] and new_results[attack_name][hash_name]['samples'].shape[0] == sample_size:\n",
    "                print(f\"Attack {name} with params {entry} already finished\")\n",
    "            else:\n",
    "                print(f\"Running attack {attack_name} with params {entry}\")\n",
    "                # targets = np.argmax(y_test[:sample_size], axis=1) -1\n",
    "                # targets = np.array([target if target >= 0 else 9 for target in targets])\n",
    "                samples = attack.generate(X_test[:sample_size])\n",
    "                new_results[attack_name][hash_name]['samples'] = samples\n",
    "            new_results[attack_name].update(**new_results[attack_name])\n",
    "        i += 1\n",
    "    return new_results"
   ]
  },
  {
   "cell_type": "code",
   "execution_count": 33,
   "metadata": {},
   "outputs": [],
   "source": [
    "\n",
    "def plot_line_search(data, model, title, results, param_name, param_display_name, scaling_factor, result_display_name, cmap = 'gray',):\n",
    "    res = results\n",
    "    (X_train, y_train), (X_test, y_test) = data\n",
    "    for key in res:\n",
    "        title = key\n",
    "        length = len(res[key])\n",
    "        if length == 0:\n",
    "            continue\n",
    "        fig, axs = plt.subplots(1, length, figsize=(20, 5))\n",
    "        i = 0\n",
    "        var_param = param_name\n",
    "        res[key] = {k: v for k, v in sorted(res[key].items(), key=lambda item: item[1]['params'][var_param])}\n",
    "        for sub_key in res[key]:\n",
    "            preds = model.predict(res[key][sub_key]['samples'])\n",
    "            adv_preds = model.predict(res[key][sub_key]['samples'])\n",
    "            sample = res[key][sub_key]['samples'][0]\n",
    "            if data == \"mnist\":\n",
    "                cmap = \"gray\"\n",
    "            else:\n",
    "                cmap = \"hot\"\n",
    "            if sample.shape[-1] != 1:\n",
    "                sample = cv2.cvtColor(sample, cv2.COLOR_BGR2RGB)\n",
    "            if length == 1:\n",
    "                fig = axs.imshow(sample, cmap=cmap)\n",
    "            else:\n",
    "                fig = axs[i].imshow(sample, cmap=cmap)\n",
    "            fig.set_cmap('gray')\n",
    "            # fig.axes.get_xaxis().set_visible(False)\n",
    "            fig.axes.get_yaxis().set_visible(False)\n",
    "            print(res[key][sub_key]['params'])\n",
    "            param_name = var_param\n",
    "            num = res[key][sub_key]['params'][param_name] * scaling_factor\n",
    "            # score = np.mean(np.subtract(preds, adv_preds))\n",
    "            ben_score = compute_accuracy(preds, y_test[:len(preds)])[1]\n",
    "            adv_score = 1 - compute_accuracy(adv_preds, y_test[:len(adv_preds)])[1]\n",
    "            num = round(num, 2)\n",
    "            adv_score = round(adv_score, 2)\n",
    "            if i == 0:\n",
    "                fig.axes.set_title(fr\"{param_display_name} = {num}\")\n",
    "                fig.axes.set_xlabel(f\"{result_display_name} = {adv_score}\")\n",
    "                fig.axes.set_xticks([])\n",
    "            else:\n",
    "                fig.axes.set_title(fr\"{num}\")\n",
    "                fig.axes.set_xlabel(f\"{adv_score}\")\n",
    "                fig.axes.set_xticks([])\n",
    "            i +=1\n",
    "            print(f\"Benign Score: {ben_score}\")\n",
    "            print(f\"Adversarial Score: {adv_score}\")\n",
    "        plt.suptitle(title, y =.70)\n",
    "        plt.tight_layout()\n",
    "        plt.savefig(f\"{title}_{param_name}.pdf\")\n",
    "        plt.show()\n",
    "\n",
    "\n"
   ]
  },
  {
   "cell_type": "code",
   "execution_count": 34,
   "metadata": {},
   "outputs": [
    {
     "name": "stderr",
     "output_type": "stream",
     "text": [
      "INFO:art.estimators.classification.keras:Inferred 90 hidden layers on Keras classifier.\n"
     ]
    }
   ],
   "source": [
    "### Load Data\n",
    "(X_train, y_train), (X_test, y_test) = mnist.load_data()\n",
    "X_train = X_train.reshape(X_train.shape[0], 28, 28, 1).astype('float32') / 255\n",
    "X_test = X_test.reshape(X_test.shape[0], 28, 28, 1).astype('float32') / 255\n",
    "y_train = to_categorical(y_train, 10)\n",
    "y_test = to_categorical(y_test, 10)\n",
    "mnist_data = (X_train, y_train), (X_test, y_test)\n",
    "\n",
    "### Load Model\n",
    "path = \"mnist/model.h5\"\n",
    "if not Path(path).exists():\n",
    "    path = get_file(path,extract=False, path=\".\",\n",
    "                    url='https://www.dropbox.com/s/bv1xwjaf1ov4u7y/mnist_ratio%3D0.h5?dl=1')\n",
    "    model = load_model(path)\n",
    "    mnist_clf = KerasClassifier(model=model, use_logits=False, clip_values=[0,1])\n",
    "else:\n",
    "    model = load_model(path)\n",
    "    mnist_clf = KerasClassifier(model=model, use_logits=False, clip_values=[0,1])\n",
    "\n",
    "data_dict = {\"mnist\": mnist_data}\n",
    "model_dict = {\"mnist\": mnist_clf}\n",
    "results = {}"
   ]
  },
  {
   "cell_type": "code",
   "execution_count": 36,
   "metadata": {},
   "outputs": [
    {
     "name": "stdout",
     "output_type": "stream",
     "text": [
      "{'batch_size': 1, 'confidence': 0, 'initial_const': 10, 'learning_rate': 0.1, 'max_iter': 10}\n",
      "Benign Score: 1.0\n",
      "Adversarial Score: 0.0\n",
      "{'batch_size': 1, 'confidence': 1, 'initial_const': 10, 'learning_rate': 0.1, 'max_iter': 10}\n",
      "Benign Score: 1.0\n",
      "Adversarial Score: 0.0\n",
      "{'batch_size': 1, 'confidence': 2, 'initial_const': 10, 'learning_rate': 0.1, 'max_iter': 10}\n",
      "Benign Score: 1.0\n",
      "Adversarial Score: 0.0\n",
      "{'batch_size': 1, 'confidence': 4, 'initial_const': 10, 'learning_rate': 0.1, 'max_iter': 10}\n",
      "Benign Score: 1.0\n",
      "Adversarial Score: 0.0\n",
      "{'batch_size': 1, 'confidence': 8, 'initial_const': 10, 'learning_rate': 0.1, 'max_iter': 10}\n",
      "Benign Score: 1.0\n",
      "Adversarial Score: 0.0\n",
      "{'batch_size': 1, 'confidence': 16, 'initial_const': 10, 'learning_rate': 0.1, 'max_iter': 10}\n",
      "Benign Score: 1.0\n",
      "Adversarial Score: 0.0\n"
     ]
    },
    {
     "data": {
      "image/png": "[encoded data removed]",
      "text/plain": [
       "<Figure size 1440x360 with 6 Axes>"
      ]
     },
     "metadata": {
      "needs_background": "light"
     },
     "output_type": "display_data"
    }
   ],
   "source": [
    "sample_size = 1\n",
    "atk_dict = {\"CW\" : {\"name\" : [CarliniL2Method], \"confidence\" : [0, 1, 2, 4, 8, 16], \"batch_size\" :[sample_size], \"max_iter\" : [10], \"initial_const\" : [10], \"learning_rate\" : [.1]}}\n",
    "# if \"results\" not in locals():\n",
    "#     \n",
    "results1 = run_attack_search(atk_dict, data_dict = data_dict, model_dict = model_dict, data_name=\"mnist\", sample_size = sample_size)\n",
    "param_name = max(atk_dict['CW'], key=lambda k: len(atk_dict['CW'][k]))\n",
    "param_display_name = \"$C$\"\n",
    "scaling_factor = 1\n",
    "result_display_name = \"$\\eta$\"\n",
    "attack_name = \"CW\"\n",
    "formal_atk_name = \"Carlini-Wagner\"\n",
    "data_name = \"Mnist\"\n",
    "title = f\"{formal_atk_name} attack on data {data_name} with {sample_size} samples per attack and {len(results1[attack_name])} variations of parameter: {param_name}\"\n",
    "filename = plot_line_search(data=mnist_data, model=mnist_clf, title=title, results=results1, param_name=param_name, param_display_name=param_display_name, scaling_factor=scaling_factor, result_display_name=result_display_name, cmap = 'gray')\n"
   ]
  },
  {
   "cell_type": "code",
   "execution_count": null,
   "metadata": {},
   "outputs": [],
   "source": []
  },
  {
   "cell_type": "code",
   "execution_count": null,
   "metadata": {},
   "outputs": [],
   "source": [
    "\n"
   ]
  },
  {
   "cell_type": "code",
   "execution_count": null,
   "metadata": {},
   "outputs": [],
   "source": []
  },
  {
   "cell_type": "code",
   "execution_count": null,
   "metadata": {},
   "outputs": [],
   "source": []
  },
  {
   "cell_type": "code",
   "execution_count": null,
   "metadata": {},
   "outputs": [],
   "source": []
  },
  {
   "cell_type": "code",
   "execution_count": null,
   "metadata": {},
   "outputs": [],
   "source": []
  },
  {
   "cell_type": "code",
   "execution_count": null,
   "metadata": {},
   "outputs": [],
   "source": []
  },
  {
   "cell_type": "code",
   "execution_count": null,
   "metadata": {},
   "outputs": [],
   "source": []
  },
  {
   "cell_type": "code",
   "execution_count": null,
   "metadata": {},
   "outputs": [],
   "source": []
  },
  {
   "cell_type": "code",
   "execution_count": null,
   "metadata": {},
   "outputs": [],
   "source": []
  },
  {
   "cell_type": "code",
   "execution_count": null,
   "metadata": {},
   "outputs": [],
   "source": []
  },
  {
   "cell_type": "code",
   "execution_count": 37,
   "metadata": {},
   "outputs": [
    {
     "data": {
      "application/json": {
       "ascii": false,
       "bar_format": null,
       "colour": null,
       "elapsed": 0.01848745346069336,
       "initial": 0,
       "n": 0,
       "ncols": null,
       "nrows": null,
       "postfix": null,
       "prefix": "",
       "rate": null,
       "total": 5,
       "unit": "it",
       "unit_divisor": 1000,
       "unit_scale": false
      },
      "application/vnd.jupyter.widget-view+json": {
       "model_id": "68fe1bb857694d2d85f4978fa26b52eb",
       "version_major": 2,
       "version_minor": 0
      },
      "text/plain": [
       "  0%|          | 0/5 [00:00<?, ?it/s]"
      ]
     },
     "metadata": {},
     "output_type": "display_data"
    },
    {
     "name": "stdout",
     "output_type": "stream",
     "text": [
      "Running attack CW with params {'batch_size': 1, 'confidence': 0, 'initial_const': 1, 'max_iter': 10}\n"
     ]
    },
    {
     "data": {
      "application/json": {
       "ascii": false,
       "bar_format": null,
       "colour": null,
       "elapsed": 0.017130374908447266,
       "initial": 0,
       "n": 0,
       "ncols": null,
       "nrows": null,
       "postfix": null,
       "prefix": "C&W L_2",
       "rate": null,
       "total": 1,
       "unit": "it",
       "unit_divisor": 1000,
       "unit_scale": false
      },
      "application/vnd.jupyter.widget-view+json": {
       "model_id": "fee2891d3a8f4c098987ada5dc8cf6e9",
       "version_major": 2,
       "version_minor": 0
      },
      "text/plain": [
       "C&W L_2:   0%|          | 0/1 [00:00<?, ?it/s]"
      ]
     },
     "metadata": {},
     "output_type": "display_data"
    },
    {
     "name": "stderr",
     "output_type": "stream",
     "text": [
      "INFO:art.attacks.evasion.carlini:Success rate of C&W L_2 attack: 0.00%\n"
     ]
    },
    {
     "name": "stdout",
     "output_type": "stream",
     "text": [
      "Running attack CW with params {'batch_size': 1, 'confidence': 0, 'initial_const': 10, 'max_iter': 10}\n"
     ]
    },
    {
     "data": {
      "application/json": {
       "ascii": false,
       "bar_format": null,
       "colour": null,
       "elapsed": 0.016505002975463867,
       "initial": 0,
       "n": 0,
       "ncols": null,
       "nrows": null,
       "postfix": null,
       "prefix": "C&W L_2",
       "rate": null,
       "total": 1,
       "unit": "it",
       "unit_divisor": 1000,
       "unit_scale": false
      },
      "application/vnd.jupyter.widget-view+json": {
       "model_id": "58124bc17b744308b78437e5b258eb07",
       "version_major": 2,
       "version_minor": 0
      },
      "text/plain": [
       "C&W L_2:   0%|          | 0/1 [00:00<?, ?it/s]"
      ]
     },
     "metadata": {},
     "output_type": "display_data"
    },
    {
     "name": "stderr",
     "output_type": "stream",
     "text": [
      "INFO:art.attacks.evasion.carlini:Success rate of C&W L_2 attack: 0.00%\n"
     ]
    },
    {
     "name": "stdout",
     "output_type": "stream",
     "text": [
      "Running attack CW with params {'batch_size': 1, 'confidence': 0, 'initial_const': 100, 'max_iter': 10}\n"
     ]
    },
    {
     "data": {
      "application/json": {
       "ascii": false,
       "bar_format": null,
       "colour": null,
       "elapsed": 0.013898134231567383,
       "initial": 0,
       "n": 0,
       "ncols": null,
       "nrows": null,
       "postfix": null,
       "prefix": "C&W L_2",
       "rate": null,
       "total": 1,
       "unit": "it",
       "unit_divisor": 1000,
       "unit_scale": false
      },
      "application/vnd.jupyter.widget-view+json": {
       "model_id": "9aa04024abb741198f9abee57aa94fd3",
       "version_major": 2,
       "version_minor": 0
      },
      "text/plain": [
       "C&W L_2:   0%|          | 0/1 [00:00<?, ?it/s]"
      ]
     },
     "metadata": {},
     "output_type": "display_data"
    },
    {
     "name": "stderr",
     "output_type": "stream",
     "text": [
      "INFO:art.attacks.evasion.carlini:Success rate of C&W L_2 attack: 0.00%\n"
     ]
    },
    {
     "name": "stdout",
     "output_type": "stream",
     "text": [
      "Running attack CW with params {'batch_size': 1, 'confidence': 0, 'initial_const': 1000, 'max_iter': 10}\n"
     ]
    },
    {
     "data": {
      "application/json": {
       "ascii": false,
       "bar_format": null,
       "colour": null,
       "elapsed": 0.013279914855957031,
       "initial": 0,
       "n": 0,
       "ncols": null,
       "nrows": null,
       "postfix": null,
       "prefix": "C&W L_2",
       "rate": null,
       "total": 1,
       "unit": "it",
       "unit_divisor": 1000,
       "unit_scale": false
      },
      "application/vnd.jupyter.widget-view+json": {
       "model_id": "1c11bde8a5734c82ac90eafdf189d26a",
       "version_major": 2,
       "version_minor": 0
      },
      "text/plain": [
       "C&W L_2:   0%|          | 0/1 [00:00<?, ?it/s]"
      ]
     },
     "metadata": {},
     "output_type": "display_data"
    },
    {
     "name": "stderr",
     "output_type": "stream",
     "text": [
      "INFO:art.attacks.evasion.carlini:Success rate of C&W L_2 attack: 0.00%\n"
     ]
    },
    {
     "name": "stdout",
     "output_type": "stream",
     "text": [
      "Running attack CW with params {'batch_size': 1, 'confidence': 0, 'initial_const': 10000, 'max_iter': 10}\n"
     ]
    },
    {
     "data": {
      "application/json": {
       "ascii": false,
       "bar_format": null,
       "colour": null,
       "elapsed": 0.027437686920166016,
       "initial": 0,
       "n": 0,
       "ncols": null,
       "nrows": null,
       "postfix": null,
       "prefix": "C&W L_2",
       "rate": null,
       "total": 1,
       "unit": "it",
       "unit_divisor": 1000,
       "unit_scale": false
      },
      "application/vnd.jupyter.widget-view+json": {
       "model_id": "66b778bdf5524a05a70f3cc94feb7161",
       "version_major": 2,
       "version_minor": 0
      },
      "text/plain": [
       "C&W L_2:   0%|          | 0/1 [00:00<?, ?it/s]"
      ]
     },
     "metadata": {},
     "output_type": "display_data"
    },
    {
     "name": "stderr",
     "output_type": "stream",
     "text": [
      "INFO:art.attacks.evasion.carlini:Success rate of C&W L_2 attack: 0.00%\n"
     ]
    },
    {
     "name": "stdout",
     "output_type": "stream",
     "text": [
      "{'batch_size': 1, 'confidence': 0, 'initial_const': 1, 'max_iter': 10}\n",
      "Benign Score: 1.0\n",
      "Adversarial Score: 0.0\n",
      "{'batch_size': 1, 'confidence': 0, 'initial_const': 10, 'max_iter': 10}\n",
      "Benign Score: 1.0\n",
      "Adversarial Score: 0.0\n",
      "{'batch_size': 1, 'confidence': 0, 'initial_const': 100, 'max_iter': 10}\n",
      "Benign Score: 1.0\n",
      "Adversarial Score: 0.0\n",
      "{'batch_size': 1, 'confidence': 0, 'initial_const': 1000, 'max_iter': 10}\n",
      "Benign Score: 1.0\n",
      "Adversarial Score: 0.0\n",
      "{'batch_size': 1, 'confidence': 0, 'initial_const': 10000, 'max_iter': 10}\n",
      "Benign Score: 1.0\n",
      "Adversarial Score: 0.0\n"
     ]
    },
    {
     "data": {
      "image/png": "[encoded data removed]",
      "text/plain": [
       "<Figure size 1440x360 with 5 Axes>"
      ]
     },
     "metadata": {
      "needs_background": "light"
     },
     "output_type": "display_data"
    }
   ],
   "source": [
    "sample_size = 1\n",
    "atk_dict = {\"CW\" : {\"name\" : [CarliniL2Method], \"confidence\" : [0], \"batch_size\" :[sample_size], \"max_iter\" : [10], \"initial_const\" : [1, 10, 100, 1000, 10000]}}\n",
    "# if \"results\" not in locals():\n",
    "#     \n",
    "results2 = run_attack_search(atk_dict, data_dict = data_dict, model_dict = model_dict, data_name=\"mnist\", sample_size = sample_size)\n",
    "param_name = max(atk_dict['CW'], key=lambda k: len(atk_dict['CW'][k]))\n",
    "param_display_name = \"$T$\"\n",
    "scaling_factor = 1\n",
    "result_display_name = \"$\\eta$\"\n",
    "attack_name = \"CW\"\n",
    "formal_atk_name = \"Carlini-Wagner\"\n",
    "data_name = \"MNIST\"\n",
    "title = f\"{formal_atk_name} attack on data {data_name} with {sample_size} samples per attack and {len(results2[attack_name])} variations of parameter: {param_name}\"\n",
    "filename = plot_line_search(data=mnist_data, model=mnist_clf, title=title, results=results2, param_name=param_name, param_display_name=param_display_name, scaling_factor=scaling_factor, result_display_name=result_display_name, cmap = 'gray')\n"
   ]
  },
  {
   "cell_type": "code",
   "execution_count": 39,
   "metadata": {},
   "outputs": [
    {
     "name": "stdout",
     "output_type": "stream",
     "text": [
      "{'batch_size': 1, 'confidence': 0, 'initial_const': 1, 'max_iter': 1}\n",
      "Benign Score: 1.0\n",
      "Adversarial Score: 0.0\n",
      "{'batch_size': 1, 'confidence': 0, 'initial_const': 1, 'max_iter': 10}\n",
      "Benign Score: 1.0\n",
      "Adversarial Score: 0.0\n",
      "{'batch_size': 1, 'confidence': 0, 'initial_const': 1, 'max_iter': 100}\n",
      "Benign Score: 1.0\n",
      "Adversarial Score: 0.0\n",
      "{'batch_size': 1, 'confidence': 0, 'initial_const': 1, 'max_iter': 1000}\n",
      "Benign Score: 1.0\n",
      "Adversarial Score: 0.0\n"
     ]
    },
    {
     "data": {
      "image/png": "[encoded data removed]",
      "text/plain": [
       "<Figure size 1440x360 with 4 Axes>"
      ]
     },
     "metadata": {
      "needs_background": "light"
     },
     "output_type": "display_data"
    }
   ],
   "source": [
    "sample_size = 20\n",
    "atk_dict = {\"CW\" : {\"name\" : [CarliniL2Method], \"confidence\" : [0], \"batch_size\" :[1], \"max_iter\" : [1, 10, 100, 1000], \"initial_const\" : [1]}}\n",
    "# if \"results\" not in locals():\n",
    "#     \n",
    "# results2 = run_attack_search(atk_dict, data_dict = data_dict, model_dict = model_dict, data_name=\"mnist\", sample_size = sample_size)\n",
    "# param_name = max(atk_dict, key=lambda k: len(atk_dict[k]))\n",
    "param_name = \"max_iter\"\n",
    "param_display_name = \"$T$\"\n",
    "scaling_factor = 1\n",
    "result_display_name = \"$\\eta$\"\n",
    "attack_name = \"CW\"\n",
    "formal_atk_name = \"Carlini-Wagner\"\n",
    "data_name = \"MNIST\"\n",
    "title = f\"{formal_atk_name} attack on data {data_name} with {sample_size} samples per attack and {len(results2[attack_name])} variations of parameter: {param_name}\"\n",
    "filename = plot_line_search(data=mnist_data, model=mnist_clf, title=title, results=results2, param_name=param_name, param_display_name=param_display_name, scaling_factor=scaling_factor, result_display_name=result_display_name, cmap = 'gray')\n"
   ]
  },
  {
   "cell_type": "code",
   "execution_count": 40,
   "metadata": {},
   "outputs": [
    {
     "data": {
      "application/json": {
       "ascii": false,
       "bar_format": null,
       "colour": null,
       "elapsed": 0.023231983184814453,
       "initial": 0,
       "n": 0,
       "ncols": null,
       "nrows": null,
       "postfix": null,
       "prefix": "",
       "rate": null,
       "total": 4,
       "unit": "it",
       "unit_divisor": 1000,
       "unit_scale": false
      },
      "application/vnd.jupyter.widget-view+json": {
       "model_id": "2c709e526ed54612bf0103c6e70c1660",
       "version_major": 2,
       "version_minor": 0
      },
      "text/plain": [
       "  0%|          | 0/4 [00:00<?, ?it/s]"
      ]
     },
     "metadata": {},
     "output_type": "display_data"
    },
    {
     "name": "stdout",
     "output_type": "stream",
     "text": [
      "Running attack CW with params {'batch_size': 20, 'confidence': 0, 'initial_const': 1, 'max_iter': 10}\n"
     ]
    },
    {
     "data": {
      "application/json": {
       "ascii": false,
       "bar_format": null,
       "colour": null,
       "elapsed": 0.0157623291015625,
       "initial": 0,
       "n": 0,
       "ncols": null,
       "nrows": null,
       "postfix": null,
       "prefix": "C&W L_2",
       "rate": null,
       "total": 1,
       "unit": "it",
       "unit_divisor": 1000,
       "unit_scale": false
      },
      "application/vnd.jupyter.widget-view+json": {
       "model_id": "ac04cf946af74dac8d5d66e142de8f46",
       "version_major": 2,
       "version_minor": 0
      },
      "text/plain": [
       "C&W L_2:   0%|          | 0/1 [00:00<?, ?it/s]"
      ]
     },
     "metadata": {},
     "output_type": "display_data"
    },
    {
     "name": "stderr",
     "output_type": "stream",
     "text": [
      "INFO:art.attacks.evasion.carlini:Success rate of C&W L_2 attack: 5.00%\n"
     ]
    },
    {
     "name": "stdout",
     "output_type": "stream",
     "text": [
      "Running attack CW with params {'batch_size': 20, 'confidence': 0, 'initial_const': 10, 'max_iter': 10}\n"
     ]
    },
    {
     "data": {
      "application/json": {
       "ascii": false,
       "bar_format": null,
       "colour": null,
       "elapsed": 0.0186612606048584,
       "initial": 0,
       "n": 0,
       "ncols": null,
       "nrows": null,
       "postfix": null,
       "prefix": "C&W L_2",
       "rate": null,
       "total": 1,
       "unit": "it",
       "unit_divisor": 1000,
       "unit_scale": false
      },
      "application/vnd.jupyter.widget-view+json": {
       "model_id": "f0ad1d2602e14f1ebc86321659ccef21",
       "version_major": 2,
       "version_minor": 0
      },
      "text/plain": [
       "C&W L_2:   0%|          | 0/1 [00:00<?, ?it/s]"
      ]
     },
     "metadata": {},
     "output_type": "display_data"
    },
    {
     "name": "stderr",
     "output_type": "stream",
     "text": [
      "INFO:art.attacks.evasion.carlini:Success rate of C&W L_2 attack: 5.00%\n"
     ]
    },
    {
     "name": "stdout",
     "output_type": "stream",
     "text": [
      "Running attack CW with params {'batch_size': 20, 'confidence': 0, 'initial_const': 100, 'max_iter': 10}\n"
     ]
    },
    {
     "data": {
      "application/json": {
       "ascii": false,
       "bar_format": null,
       "colour": null,
       "elapsed": 0.017061710357666016,
       "initial": 0,
       "n": 0,
       "ncols": null,
       "nrows": null,
       "postfix": null,
       "prefix": "C&W L_2",
       "rate": null,
       "total": 1,
       "unit": "it",
       "unit_divisor": 1000,
       "unit_scale": false
      },
      "application/vnd.jupyter.widget-view+json": {
       "model_id": "9b225de31fdb4535ac656fc68698c272",
       "version_major": 2,
       "version_minor": 0
      },
      "text/plain": [
       "C&W L_2:   0%|          | 0/1 [00:00<?, ?it/s]"
      ]
     },
     "metadata": {},
     "output_type": "display_data"
    },
    {
     "name": "stderr",
     "output_type": "stream",
     "text": [
      "INFO:art.attacks.evasion.carlini:Success rate of C&W L_2 attack: 10.00%\n"
     ]
    },
    {
     "name": "stdout",
     "output_type": "stream",
     "text": [
      "Running attack CW with params {'batch_size': 20, 'confidence': 0, 'initial_const': 1000, 'max_iter': 10}\n"
     ]
    },
    {
     "data": {
      "application/json": {
       "ascii": false,
       "bar_format": null,
       "colour": null,
       "elapsed": 0.016960620880126953,
       "initial": 0,
       "n": 0,
       "ncols": null,
       "nrows": null,
       "postfix": null,
       "prefix": "C&W L_2",
       "rate": null,
       "total": 1,
       "unit": "it",
       "unit_divisor": 1000,
       "unit_scale": false
      },
      "application/vnd.jupyter.widget-view+json": {
       "model_id": "b601f445e1b74939abc85b3493f66f14",
       "version_major": 2,
       "version_minor": 0
      },
      "text/plain": [
       "C&W L_2:   0%|          | 0/1 [00:00<?, ?it/s]"
      ]
     },
     "metadata": {},
     "output_type": "display_data"
    },
    {
     "name": "stderr",
     "output_type": "stream",
     "text": [
      "INFO:art.attacks.evasion.carlini:Success rate of C&W L_2 attack: 10.00%\n"
     ]
    },
    {
     "name": "stdout",
     "output_type": "stream",
     "text": [
      "{'batch_size': 20, 'confidence': 0, 'initial_const': 1, 'max_iter': 10}\n",
      "Benign Score: 1.0\n",
      "Adversarial Score: 0.0\n",
      "{'batch_size': 20, 'confidence': 0, 'initial_const': 10, 'max_iter': 10}\n",
      "Benign Score: 1.0\n",
      "Adversarial Score: 0.0\n",
      "{'batch_size': 20, 'confidence': 0, 'initial_const': 100, 'max_iter': 10}\n",
      "Benign Score: 1.0\n",
      "Adversarial Score: 0.0\n",
      "{'batch_size': 20, 'confidence': 0, 'initial_const': 1000, 'max_iter': 10}\n",
      "Benign Score: 1.0\n",
      "Adversarial Score: 0.0\n"
     ]
    },
    {
     "data": {
      "image/png": "[encoded data removed]",
      "text/plain": [
       "<Figure size 1440x360 with 4 Axes>"
      ]
     },
     "metadata": {
      "needs_background": "light"
     },
     "output_type": "display_data"
    }
   ],
   "source": [
    "sample_size = 20\n",
    "atk_dict = {\"CW\" : {\"name\" : [CarliniL2Method], \"confidence\" : [0], \"batch_size\" :[sample_size], \"max_iter\" : [10], \"initial_const\" : [1, 10, 100, 1000]}}\n",
    "# if \"results\" not in locals():\n",
    "#     \n",
    "results3 = run_attack_search(atk_dict, data_dict = data_dict, model_dict = model_dict, data_name=\"mnist\", sample_size = sample_size)\n",
    "# param_name = max(atk_dict, key=lambda k: len(atk_dict[k]))\n",
    "param_name = \"initial_const\"\n",
    "param_display_name = \"$C$\"\n",
    "scaling_factor = 1\n",
    "result_display_name = \"$\\eta$\"\n",
    "attack_name = \"CW\"\n",
    "formal_atk_name = \"Carlini-Wagner\"\n",
    "data_name = \"MNIST\"\n",
    "title = f\"{formal_atk_name} attack on data {data_name} with {sample_size} samples per attack and {len(results3[attack_name])} variations of parameter: {param_name}\"\n",
    "filename = plot_line_search(data=mnist_data, model=mnist_clf, title=title, results=results3, param_name=param_name, param_display_name=param_display_name, scaling_factor=scaling_factor, result_display_name=result_display_name, cmap = 'gray')\n"
   ]
  },
  {
   "cell_type": "code",
   "execution_count": 41,
   "metadata": {},
   "outputs": [
    {
     "data": {
      "application/json": {
       "ascii": false,
       "bar_format": null,
       "colour": null,
       "elapsed": 0.02714848518371582,
       "initial": 0,
       "n": 0,
       "ncols": null,
       "nrows": null,
       "postfix": null,
       "prefix": "",
       "rate": null,
       "total": 4,
       "unit": "it",
       "unit_divisor": 1000,
       "unit_scale": false
      },
      "application/vnd.jupyter.widget-view+json": {
       "model_id": "72785abf52634928bd694ffdbcd4f9cb",
       "version_major": 2,
       "version_minor": 0
      },
      "text/plain": [
       "  0%|          | 0/4 [00:00<?, ?it/s]"
      ]
     },
     "metadata": {},
     "output_type": "display_data"
    },
    {
     "name": "stdout",
     "output_type": "stream",
     "text": [
      "Running attack CW with params {'batch_size': 20, 'binary_search_steps': 1, 'confidence': 0, 'max_iter': 10}\n"
     ]
    },
    {
     "data": {
      "application/json": {
       "ascii": false,
       "bar_format": null,
       "colour": null,
       "elapsed": 0.016153573989868164,
       "initial": 0,
       "n": 0,
       "ncols": null,
       "nrows": null,
       "postfix": null,
       "prefix": "C&W L_2",
       "rate": null,
       "total": 1,
       "unit": "it",
       "unit_divisor": 1000,
       "unit_scale": false
      },
      "application/vnd.jupyter.widget-view+json": {
       "model_id": "de0cfd83d8254b5387077967c2a3d90e",
       "version_major": 2,
       "version_minor": 0
      },
      "text/plain": [
       "C&W L_2:   0%|          | 0/1 [00:00<?, ?it/s]"
      ]
     },
     "metadata": {},
     "output_type": "display_data"
    },
    {
     "name": "stderr",
     "output_type": "stream",
     "text": [
      "INFO:art.attacks.evasion.carlini:Success rate of C&W L_2 attack: 0.00%\n"
     ]
    },
    {
     "name": "stdout",
     "output_type": "stream",
     "text": [
      "Running attack CW with params {'batch_size': 20, 'binary_search_steps': 10, 'confidence': 0, 'max_iter': 10}\n"
     ]
    },
    {
     "data": {
      "application/json": {
       "ascii": false,
       "bar_format": null,
       "colour": null,
       "elapsed": 0.03088092803955078,
       "initial": 0,
       "n": 0,
       "ncols": null,
       "nrows": null,
       "postfix": null,
       "prefix": "C&W L_2",
       "rate": null,
       "total": 1,
       "unit": "it",
       "unit_divisor": 1000,
       "unit_scale": false
      },
      "application/vnd.jupyter.widget-view+json": {
       "model_id": "645f482256d34599af9ae3a4c9937b07",
       "version_major": 2,
       "version_minor": 0
      },
      "text/plain": [
       "C&W L_2:   0%|          | 0/1 [00:00<?, ?it/s]"
      ]
     },
     "metadata": {},
     "output_type": "display_data"
    },
    {
     "name": "stderr",
     "output_type": "stream",
     "text": [
      "INFO:art.attacks.evasion.carlini:Success rate of C&W L_2 attack: 5.00%\n"
     ]
    },
    {
     "name": "stdout",
     "output_type": "stream",
     "text": [
      "Running attack CW with params {'batch_size': 20, 'binary_search_steps': 100, 'confidence': 0, 'max_iter': 10}\n"
     ]
    },
    {
     "data": {
      "application/json": {
       "ascii": false,
       "bar_format": null,
       "colour": null,
       "elapsed": 0.0220947265625,
       "initial": 0,
       "n": 0,
       "ncols": null,
       "nrows": null,
       "postfix": null,
       "prefix": "C&W L_2",
       "rate": null,
       "total": 1,
       "unit": "it",
       "unit_divisor": 1000,
       "unit_scale": false
      },
      "application/vnd.jupyter.widget-view+json": {
       "model_id": "81bc86e83dcb4431917f11ad7d17ebb9",
       "version_major": 2,
       "version_minor": 0
      },
      "text/plain": [
       "C&W L_2:   0%|          | 0/1 [00:00<?, ?it/s]"
      ]
     },
     "metadata": {},
     "output_type": "display_data"
    },
    {
     "name": "stderr",
     "output_type": "stream",
     "text": [
      "INFO:art.attacks.evasion.carlini:Success rate of C&W L_2 attack: 20.00%\n"
     ]
    },
    {
     "name": "stdout",
     "output_type": "stream",
     "text": [
      "Running attack CW with params {'batch_size': 20, 'binary_search_steps': 1000, 'confidence': 0, 'max_iter': 10}\n"
     ]
    },
    {
     "data": {
      "application/json": {
       "ascii": false,
       "bar_format": null,
       "colour": null,
       "elapsed": 0.015035152435302734,
       "initial": 0,
       "n": 0,
       "ncols": null,
       "nrows": null,
       "postfix": null,
       "prefix": "C&W L_2",
       "rate": null,
       "total": 1,
       "unit": "it",
       "unit_divisor": 1000,
       "unit_scale": false
      },
      "application/vnd.jupyter.widget-view+json": {
       "model_id": "28f59a32cb6b45ab8a61f62a9b434cfb",
       "version_major": 2,
       "version_minor": 0
      },
      "text/plain": [
       "C&W L_2:   0%|          | 0/1 [00:00<?, ?it/s]"
      ]
     },
     "metadata": {},
     "output_type": "display_data"
    },
    {
     "name": "stderr",
     "output_type": "stream",
     "text": [
      "INFO:art.attacks.evasion.carlini:Success rate of C&W L_2 attack: 20.00%\n"
     ]
    },
    {
     "name": "stdout",
     "output_type": "stream",
     "text": [
      "{'batch_size': 20, 'binary_search_steps': 1, 'confidence': 0, 'max_iter': 10}\n",
      "Benign Score: 1.0\n",
      "Adversarial Score: 0.0\n",
      "{'batch_size': 20, 'binary_search_steps': 10, 'confidence': 0, 'max_iter': 10}\n",
      "Benign Score: 1.0\n",
      "Adversarial Score: 0.0\n",
      "{'batch_size': 20, 'binary_search_steps': 100, 'confidence': 0, 'max_iter': 10}\n",
      "Benign Score: 1.0\n",
      "Adversarial Score: 0.0\n",
      "{'batch_size': 20, 'binary_search_steps': 1000, 'confidence': 0, 'max_iter': 10}\n",
      "Benign Score: 1.0\n",
      "Adversarial Score: 0.0\n"
     ]
    },
    {
     "data": {
      "image/png": "[encoded data removed]",
      "text/plain": [
       "<Figure size 1440x360 with 4 Axes>"
      ]
     },
     "metadata": {
      "needs_background": "light"
     },
     "output_type": "display_data"
    }
   ],
   "source": [
    "sample_size = 20\n",
    "atk_dict = {\"CW\" : {\"name\" : [CarliniL2Method], \"confidence\" : [0], \"batch_size\" :[sample_size], \"max_iter\" : [10], \"binary_search_steps\" : [1, 10, 100, 1000]}}\n",
    "# if \"results\" not in locals():\n",
    "#     \n",
    "results4 = run_attack_search(atk_dict, data_dict = data_dict, model_dict = model_dict, data_name=\"mnist\", sample_size = sample_size)\n",
    "param_name = max(atk_dict[\"CW\"], key=lambda k: len(atk_dict[\"CW\"][k]))\n",
    "param_display_name = \"$T$\"\n",
    "scaling_factor = 1\n",
    "result_display_name = \"$\\eta$\"\n",
    "attack_name = \"CW\"\n",
    "formal_atk_name = \"Carlini-Wagner\"\n",
    "data_name = \"MNIST\"\n",
    "title = f\"{formal_atk_name} attack on data {data_name} with {sample_size} samples per attack and {len(results4[attack_name])} variations of parameter: {param_name}\"\n",
    "filename = plot_line_search(data=mnist_data, model=mnist_clf, title=title, results=results4, param_name=param_name, param_display_name=param_display_name, scaling_factor=scaling_factor, result_display_name=result_display_name, cmap = 'gray')\n"
   ]
  },
  {
   "cell_type": "code",
   "execution_count": 94,
   "metadata": {},
   "outputs": [
    {
     "name": "stdout",
     "output_type": "stream",
     "text": [
      "Number of samples that were misclassified: 0\n",
      "Shape of samples: (1, 28, 28, 1)\n",
      "Shape of notequal: (0,)\n",
      "####################################\n",
      "##      []      ##\n",
      "####################################\n",
      "No good samples found\n",
      "Params : {'batch_size': 1, 'confidence': 0, 'initial_const': 10, 'learning_rate': 0.1, 'max_iter': 10}\n",
      "Number of samples that were misclassified: 0\n",
      "Shape of samples: (1, 28, 28, 1)\n",
      "Shape of notequal: (0,)\n",
      "####################################\n",
      "##      []      ##\n",
      "####################################\n",
      "No good samples found\n",
      "Params : {'batch_size': 1, 'confidence': 1, 'initial_const': 10, 'learning_rate': 0.1, 'max_iter': 10}\n",
      "Number of samples that were misclassified: 0\n",
      "Shape of samples: (1, 28, 28, 1)\n",
      "Shape of notequal: (0,)\n",
      "####################################\n",
      "##      []      ##\n",
      "####################################\n",
      "No good samples found\n",
      "Params : {'batch_size': 1, 'confidence': 2, 'initial_const': 10, 'learning_rate': 0.1, 'max_iter': 10}\n",
      "Number of samples that were misclassified: 0\n",
      "Shape of samples: (1, 28, 28, 1)\n",
      "Shape of notequal: (0,)\n",
      "####################################\n",
      "##      []      ##\n",
      "####################################\n",
      "No good samples found\n",
      "Params : {'batch_size': 1, 'confidence': 4, 'initial_const': 10, 'learning_rate': 0.1, 'max_iter': 10}\n",
      "Number of samples that were misclassified: 0\n",
      "Shape of samples: (1, 28, 28, 1)\n",
      "Shape of notequal: (0,)\n",
      "####################################\n",
      "##      []      ##\n",
      "####################################\n",
      "No good samples found\n",
      "Params : {'batch_size': 1, 'confidence': 8, 'initial_const': 10, 'learning_rate': 0.1, 'max_iter': 10}\n",
      "Number of samples that were misclassified: 0\n",
      "Shape of samples: (1, 28, 28, 1)\n",
      "Shape of notequal: (0,)\n",
      "####################################\n",
      "##      []      ##\n",
      "####################################\n",
      "No good samples found\n",
      "Params : {'batch_size': 1, 'confidence': 16, 'initial_const': 10, 'learning_rate': 0.1, 'max_iter': 10}\n",
      "Number of samples that were misclassified: 0\n",
      "Shape of samples: (20, 28, 28, 1)\n",
      "Shape of notequal: (0,)\n",
      "####################################\n",
      "##      []      ##\n",
      "####################################\n",
      "No good samples found\n",
      "Params : {'batch_size': 1, 'confidence': 0, 'initial_const': 1, 'max_iter': 1}\n",
      "Number of samples that were misclassified: 1\n",
      "Shape of samples: (20, 28, 28, 1)\n",
      "Shape of notequal: (1,)\n",
      "####################################\n",
      "##      [8]      ##\n",
      "####################################\n",
      "8\n",
      "Predicted class: 6\n",
      "Actual class: 5\n",
      "Params : {'batch_size': 1, 'confidence': 0, 'initial_const': 1, 'max_iter': 10}\n",
      "Number of samples that were misclassified: 1\n",
      "Shape of samples: (20, 28, 28, 1)\n",
      "Shape of notequal: (1,)\n",
      "####################################\n",
      "##      [8]      ##\n",
      "####################################\n",
      "8\n",
      "Predicted class: 6\n",
      "Actual class: 5\n",
      "Params : {'batch_size': 1, 'confidence': 0, 'initial_const': 1, 'max_iter': 100}\n",
      "Number of samples that were misclassified: 1\n",
      "Shape of samples: (20, 28, 28, 1)\n",
      "Shape of notequal: (1,)\n",
      "####################################\n",
      "##      [8]      ##\n",
      "####################################\n",
      "8\n",
      "Predicted class: 6\n",
      "Actual class: 5\n",
      "Params : {'batch_size': 1, 'confidence': 0, 'initial_const': 1, 'max_iter': 1000}\n",
      "Number of samples that were misclassified: 1\n",
      "Shape of samples: (20, 28, 28, 1)\n",
      "Shape of notequal: (1,)\n",
      "####################################\n",
      "##      [8]      ##\n",
      "####################################\n",
      "8\n",
      "Predicted class: 6\n",
      "Actual class: 5\n",
      "Params : {'batch_size': 20, 'confidence': 0, 'initial_const': 1, 'max_iter': 10}\n",
      "Number of samples that were misclassified: 1\n",
      "Shape of samples: (20, 28, 28, 1)\n",
      "Shape of notequal: (1,)\n",
      "####################################\n",
      "##      [8]      ##\n",
      "####################################\n",
      "8\n",
      "Predicted class: 6\n",
      "Actual class: 5\n",
      "Params : {'batch_size': 20, 'confidence': 0, 'initial_const': 10, 'max_iter': 10}\n",
      "Number of samples that were misclassified: 2\n",
      "Shape of samples: (20, 28, 28, 1)\n",
      "Shape of notequal: (2,)\n",
      "####################################\n",
      "##      [ 8 18]      ##\n",
      "####################################\n",
      "8\n",
      "18\n",
      "Predicted class: 8\n",
      "Actual class: 3\n",
      "Params : {'batch_size': 20, 'confidence': 0, 'initial_const': 100, 'max_iter': 10}\n",
      "Number of samples that were misclassified: 2\n",
      "Shape of samples: (20, 28, 28, 1)\n",
      "Shape of notequal: (2,)\n",
      "####################################\n",
      "##      [ 8 18]      ##\n",
      "####################################\n",
      "8\n",
      "18\n",
      "Predicted class: 8\n",
      "Actual class: 3\n",
      "Params : {'batch_size': 20, 'confidence': 0, 'initial_const': 1000, 'max_iter': 10}\n",
      "Number of samples that were misclassified: 0\n",
      "Shape of samples: (20, 28, 28, 1)\n",
      "Shape of notequal: (0,)\n",
      "####################################\n",
      "##      []      ##\n",
      "####################################\n",
      "No good samples found\n",
      "Params : {'batch_size': 20, 'binary_search_steps': 1, 'confidence': 0, 'max_iter': 10}\n",
      "Number of samples that were misclassified: 1\n",
      "Shape of samples: (20, 28, 28, 1)\n",
      "Shape of notequal: (1,)\n",
      "####################################\n",
      "##      [8]      ##\n",
      "####################################\n",
      "8\n",
      "Predicted class: 6\n",
      "Actual class: 5\n",
      "Params : {'batch_size': 20, 'binary_search_steps': 10, 'confidence': 0, 'max_iter': 10}\n",
      "Number of samples that were misclassified: 4\n",
      "Shape of samples: (20, 28, 28, 1)\n",
      "Shape of notequal: (4,)\n",
      "####################################\n",
      "##      [ 4  8 15 18]      ##\n",
      "####################################\n",
      "4\n",
      "8\n",
      "15\n",
      "18\n",
      "Predicted class: 4\n",
      "Actual class: 3\n",
      "Params : {'batch_size': 20, 'binary_search_steps': 100, 'confidence': 0, 'max_iter': 10}\n",
      "Number of samples that were misclassified: 4\n",
      "Shape of samples: (20, 28, 28, 1)\n",
      "Shape of notequal: (4,)\n",
      "####################################\n",
      "##      [ 4  8 15 18]      ##\n",
      "####################################\n",
      "4\n",
      "8\n",
      "15\n",
      "18\n",
      "Predicted class: 8\n",
      "Actual class: 3\n",
      "Params : {'batch_size': 20, 'binary_search_steps': 1000, 'confidence': 0, 'max_iter': 10}\n"
     ]
    },
    {
     "data": {
      "image/png": "[encoded data removed]",
      "text/plain": [
       "<Figure size 432x288 with 1 Axes>"
      ]
     },
     "metadata": {
      "needs_background": "light"
     },
     "output_type": "display_data"
    },
    {
     "data": {
      "image/png": "[encoded data removed]",
      "text/plain": [
       "<Figure size 432x288 with 1 Axes>"
      ]
     },
     "metadata": {
      "needs_background": "light"
     },
     "output_type": "display_data"
    },
    {
     "data": {
      "image/png": "[encoded data removed]",
      "text/plain": [
       "<Figure size 432x288 with 1 Axes>"
      ]
     },
     "metadata": {
      "needs_background": "light"
     },
     "output_type": "display_data"
    },
    {
     "data": {
      "image/png": "[encoded data removed]",
      "text/plain": [
       "<Figure size 432x288 with 1 Axes>"
      ]
     },
     "metadata": {
      "needs_background": "light"
     },
     "output_type": "display_data"
    },
    {
     "data": {
      "image/png": "[encoded data removed]",
      "text/plain": [
       "<Figure size 432x288 with 1 Axes>"
      ]
     },
     "metadata": {
      "needs_background": "light"
     },
     "output_type": "display_data"
    },
    {
     "data": {
      "image/png": "[encoded data removed]",
      "text/plain": [
       "<Figure size 432x288 with 2 Axes>"
      ]
     },
     "metadata": {
      "needs_background": "light"
     },
     "output_type": "display_data"
    },
    {
     "data": {
      "image/png": "[encoded data removed]",
      "text/plain": [
       "<Figure size 432x288 with 2 Axes>"
      ]
     },
     "metadata": {
      "needs_background": "light"
     },
     "output_type": "display_data"
    },
    {
     "data": {
      "image/png": "[encoded data removed]",
      "text/plain": [
       "<Figure size 432x288 with 1 Axes>"
      ]
     },
     "metadata": {
      "needs_background": "light"
     },
     "output_type": "display_data"
    },
    {
     "data": {
      "image/png": "[encoded data removed]",
      "text/plain": [
       "<Figure size 432x288 with 4 Axes>"
      ]
     },
     "metadata": {
      "needs_background": "light"
     },
     "output_type": "display_data"
    },
    {
     "data": {
      "image/png": "[encoded data removed]",
      "text/plain": [
       "<Figure size 432x288 with 4 Axes>"
      ]
     },
     "metadata": {
      "needs_background": "light"
     },
     "output_type": "display_data"
    }
   ],
   "source": [
    "# new_results = {**results1, **results2, **results3, **results4}\n",
    "new_results = {}\n",
    "new_results['CW'] = {**results1['CW'], **results2['CW'], **results3['CW'], **results4['CW']}\n",
    "import pandas as pd\n",
    "big_df = pd.DataFrame()\n",
    "good_sample = {}\n",
    "(X_train, y_train), (X_test, y_test) = data_dict['mnist']\n",
    "for result in new_results['CW']:\n",
    "    params = new_results['CW'][result]['params']\n",
    "    samples = new_results['CW'][result]['samples']\n",
    "    ser = pd.Series()\n",
    "    ser['id'] = result\n",
    "    ser['samples'] = samples\n",
    "    ser['params'] = (params)\n",
    "    preds = mnist_clf.predict(samples)\n",
    "    preds = np.argmax(preds, axis=1)\n",
    "    y_cat = np.argmax(y_test, axis=1)[:samples.shape[0]]\n",
    "    notequal = np.where(preds != y_cat)\n",
    "    print(f\"Number of samples that were misclassified: {len(notequal[0])}\")\n",
    "    print(f\"Shape of samples: {samples.shape}\")\n",
    "    print(f\"Shape of notequal: {notequal[0].shape}\")\n",
    "    print(\"####################################\")\n",
    "    print(f\"##      {notequal[0]}      ##\")\n",
    "    print(\"####################################\")\n",
    "    i = 0\n",
    "    if len(notequal[0]) > 0:\n",
    "        fig, axs = plt.subplots(1, len(notequal[0]))\n",
    "        for good_sample_idx in notequal[0]:\n",
    "            print(good_sample_idx)\n",
    "            if len(notequal[0]) == 1:\n",
    "                graph = axs.imshow(samples[good_sample_idx].reshape(28, 28), cmap='gray')\n",
    "            else:\n",
    "                graph = axs[i].imshow(samples[good_sample_idx].reshape(28, 28), cmap='gray')\n",
    "            \n",
    "            i += 1\n",
    "        print(f\"Predicted class: {preds[good_sample_idx]}\")\n",
    "        print(f\"Actual class: {y_cat[good_sample_idx]}\")\n",
    "        print(f\"Params : {params}\")\n",
    "    else:\n",
    "        print(\"No good samples found\")\n",
    "        print(f\"Params : {params}\")\n",
    "    \n",
    "    \n"
   ]
  },
  {
   "cell_type": "code",
   "execution_count": null,
   "metadata": {},
   "outputs": [],
   "source": []
  }
 ],
 "metadata": {
  "kernelspec": {
   "display_name": "gpu",
   "language": "python",
   "name": "python3"
  },
  "language_info": {
   "codemirror_mode": {
    "name": "ipython",
    "version": 3
   },
   "file_extension": ".py",
   "mimetype": "text/x-python",
   "name": "python",
   "nbconvert_exporter": "python",
   "pygments_lexer": "ipython3",
   "version": "3.7.7"
  },
  "orig_nbformat": 4
 },
 "nbformat": 4,
 "nbformat_minor": 2
}
